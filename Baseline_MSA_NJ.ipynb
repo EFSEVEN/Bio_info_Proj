{
  "nbformat": 4,
  "nbformat_minor": 0,
  "metadata": {
    "colab": {
      "provenance": []
    },
    "kernelspec": {
      "name": "python3",
      "display_name": "Python 3"
    },
    "language_info": {
      "name": "python"
    }
  },
  "cells": [
    {
      "cell_type": "markdown",
      "source": [
        "\n",
        "#Baseline model\n",
        "\n",
        "This is the implementation of the baseline model of the CS466 project.\n",
        "\n"
      ],
      "metadata": {
        "id": "3k23dpSu0waC"
      }
    },
    {
      "cell_type": "markdown",
      "source": [
        "##Data preparation\n",
        "\n",
        "First, merge all the DNA file under the ``./data`` into one file ``dnas.fasta``\n",
        "\n",
        "Then load the data.\n",
        "\n",
        "In this project, we implement our method based on the following species.\n",
        "1. primates: Homo sapiens (Human), Macaca mulatta, Macaca fascicularis, gorilla, Macaca nemestrina\n",
        "\n",
        "2. mammals: Bos taurus, Sus scrofa, Canis lupus familiaris, Peromyscus leucopus, Peromyscus maniculatus bairdii\n"
      ],
      "metadata": {
        "id": "rsQNChdF3PVQ"
      }
    },
    {
      "cell_type": "code",
      "execution_count": null,
      "metadata": {
        "id": "MP8VGTAUEMBN"
      },
      "outputs": [],
      "source": [
        "def import_fasta(nom):\n",
        "    dna={}\n",
        "    o = open(nom,'r')\n",
        "    r = o.read()\n",
        "    lines = r.split(\"\\n\\n\")\n",
        "    for line in lines:\n",
        "        line_split =line.split(\"\\n\",1)\n",
        "        name= line_split[0]\n",
        "        seq = line_split[1].strip()\n",
        "        dna[name] = seq\n",
        "    return dna\n",
        "\n",
        "DNA = import_fasta('dnas.fasta')\n",
        "\n",
        "for D in DNA:\n",
        "    print(D)\n",
        "    print(DNA[D])"
      ]
    },
    {
      "cell_type": "markdown",
      "source": [
        "##MSA"
      ],
      "metadata": {
        "id": "WnkA8blfE-Uc"
      }
    },
    {
      "cell_type": "code",
      "source": [
        "def compute_profile(alignment, alphabet):\n",
        "    \"\"\"\n",
        "    Given an alphabet an a multiple sequence alignment in that alphabet,\n",
        "    computes and returns its profile representation\n",
        "    \n",
        "    :param: alignment is a list of lists of characters in the alphabet\n",
        "    :param: alphabet is a list of characters in the alphabet from which the strings are\n",
        "            constructed\n",
        "    :return: a dictionary where dict[x][i] is the frequency of the character\n",
        "             x in the i-th position of the alignment.\n",
        "    \"\"\"\n",
        "    \n",
        "    if not alignment:\n",
        "        return {}\n",
        "\n",
        "    n = len(alignment)\n",
        "    l = len(alignment[0])\n",
        "    profile = {}\n",
        "\n",
        "    # YOUR CODE HERE\n",
        "    for i in range(len(alphabet)):\n",
        "      profile[alphabet[i]] = []\n",
        "      for j in range(l):\n",
        "        freq = 0.0\n",
        "        for c in range(n):\n",
        "          if(alignment[c][j] == alphabet[i]):\n",
        "            freq = freq+1\n",
        "        profile[alphabet[i]].append(freq/n)\n",
        "    #raise NotImplementedError()\n",
        "    return profile"
      ],
      "metadata": {
        "id": "CmwfXEotICy8"
      },
      "execution_count": 34,
      "outputs": []
    },
    {
      "cell_type": "code",
      "source": [
        "def compute_tau(profile, alphabet, delta):\n",
        "    \"\"\"\n",
        "    Given a profile, an alphabet and a scoring function for that alphabet,\n",
        "    returns the scoring function for aligning a character in the alphabet\n",
        "    to a column in the profile\n",
        "    \n",
        "    :param: profile is the profile representation of the multiple sequence\n",
        "            we are aligning against\n",
        "    :param: alphabet is the alphabet of characters that compose our sequences\n",
        "    :param: delta is the scoring function between characters in our alphabet\n",
        "    \n",
        "    :return: The scoring function tau such that tau[x][i] is the score for aligning\n",
        "             character x with column i of the profile.\n",
        "    \"\"\"\n",
        "    tau = {}\n",
        "    # YOUR CODE HERE\n",
        "    for x in range(len(alphabet)):\n",
        "      tau[alphabet[x]] = []\n",
        "      for j in range(len(profile[alphabet[i]])):\n",
        "        score = 0.0\n",
        "        for y in range(len(alphabet)):\n",
        "          score = score+profile[alphabet[y]][j]*delta[alphabet[x]][alphabet[y]]\n",
        "        tau[alphabet[x]].append(score)\n",
        "    #print(tau)\n",
        "    return tau"
      ],
      "metadata": {
        "id": "s9VhDZKQIMI6"
      },
      "execution_count": 35,
      "outputs": []
    },
    {
      "cell_type": "code",
      "source": [
        "UP = (-1, 0)\n",
        "LEFT = (0, -1)\n",
        "TOPLEFT = (-1, -1)\n",
        "\n",
        "def traceback(aln1, aln2, pointers):\n",
        "    i = len(aln1[0])-1\n",
        "    j = len(aln2[0])-1\n",
        "    new_al1 = [list(v) for v in aln1]\n",
        "    new_al2 = [list(w) for w in aln2]\n",
        "    while True:\n",
        "        di, dj = pointers[i][j]\n",
        "        if (di, dj) == LEFT:\n",
        "            for seq1 in new_al1:\n",
        "                seq1.insert(i, '-')\n",
        "        if (di, dj) == UP:\n",
        "            for seq2 in new_al2:\n",
        "                seq2.insert(j, '-')\n",
        "        i, j = i + di, j + dj\n",
        "        if (i <= 0 and j <= 0):\n",
        "            break\n",
        "    new_alignment = []\n",
        "    for seq in new_al1:\n",
        "        new_alignment.append(''.join(seq))\n",
        "    for seq in new_al2:\n",
        "        new_alignment.append(''.join(seq))\n",
        "    return new_alignment\n",
        "\n",
        "\n",
        "def align_sequence_profile(alignment, sequence, alphabet, delta):\n",
        "    \"\"\"\n",
        "    This function aligns a sequence against a multiple sequence alignment\n",
        "    \n",
        "    :param: alignment is the multiple sequence alignment are aligning against.\n",
        "            This is a list of list of characters\n",
        "    :param: sequence is the new sequence we are aligning to the multiple alignment.\n",
        "            This is a list of characters\n",
        "    :param: alphabet is a list of characters that could compose the sequences in\n",
        "            the alignments.\n",
        "    :param: delta is the scoring function for aligning characters in our alphabet.\n",
        "            delta[x][y] is the score for aligning the characters x and y.\n",
        "    \n",
        "    \n",
        "    :return: a list of lists of characters in the alphabet, representing the \n",
        "             new multiple sequence alignment\n",
        "    \"\"\"\n",
        "    # Base case when there is an empty multiple alignment\n",
        "    if not alignment:\n",
        "        return [sequence]\n",
        "    M = [[0 for _ in range(len(alignment[0]))] for _ in range(len(sequence))] \n",
        "    pointers = [[(0,0) for _ in range(len(alignment[0]))] for _ in range(len(sequence))]\n",
        "    score = None\n",
        "    \n",
        "    profile = compute_profile(alignment, alphabet)\n",
        "    tau = compute_tau(profile, alphabet, delta)\n",
        "\n",
        "    for i in range(len(sequence)):\n",
        "        for j in range(len(alignment[0])):\n",
        "            if i == 0 and j == 0:   \n",
        "                M[i][j] = 0\n",
        "            elif i == 0:\n",
        "                M[i][j] = M[i][j-1] + tau['-'][j-1]\n",
        "                pointers[i][j] = LEFT\n",
        "            elif j == 0:\n",
        "                sequence[i-1]\n",
        "                M[i][j] = M[i-1][j] + delta[sequence[i-1]]['-']\n",
        "                pointers[i][j] = UP\n",
        "            else:\n",
        "                best_sub = max([(LEFT, M[i][j-1] + tau['-'][j-1]), \n",
        "                               (UP, M[i-1][j] + delta[sequence[i-1]]['-']), \n",
        "                               (TOPLEFT, M[i-1][j-1] + tau[sequence[i-1]][j-1])], key = lambda x: x[1])\n",
        "                pointers[i][j] = best_sub[0]\n",
        "                M[i][j] = best_sub[1]\n",
        "\n",
        "    score = M[-1][-1]\n",
        "    return score, traceback([sequence], alignment, pointers)"
      ],
      "metadata": {
        "id": "IJs6Ys-nIWbp"
      },
      "execution_count": 36,
      "outputs": []
    },
    {
      "cell_type": "code",
      "source": [
        "def compute_sigma(p,q,alphabet, delta):\n",
        "    \"\"\"\n",
        "    :param: p is the profile for the first multiple alignment\n",
        "    :param: q is the profile for the second multiple alignment\n",
        "    :param: alphabet is the list of all characters in our sequences\n",
        "    :param: delta is the scoring function for aligning characters in our alphabet\n",
        "    \n",
        "    :returns: a list of lists sigma such that sigma[i][j] is the score for aligning column\n",
        "              i of p with column j of q\n",
        "    \"\"\"\n",
        "    sigma = []\n",
        "    size_p = len(p[alphabet[0]])\n",
        "    size_q = len(q[alphabet[0]])\n",
        "    # YOUR CODE HERE\n",
        "    #raise NotImplementedError()\n",
        "    for i in range(size_p):\n",
        "      scores = []\n",
        "      for j in range(size_q):\n",
        "        s = 0.0\n",
        "        for x in range(len(alphabet)):\n",
        "          for y in range(len(alphabet)):\n",
        "            s = s+p[alphabet[x]][i]*q[alphabet[y]][j]*delta[alphabet[x]][alphabet[y]]\n",
        "        scores.append(s)\n",
        "      sigma.append(scores)\n",
        "\n",
        "    return sigma"
      ],
      "metadata": {
        "id": "LRDTH2x0GDYO"
      },
      "execution_count": 37,
      "outputs": []
    },
    {
      "cell_type": "code",
      "source": [
        "UP = (-1, 0)\n",
        "LEFT = (0, -1)\n",
        "TOPLEFT = (-1, -1)\n",
        "\n",
        "def traceback(aln1, aln2, pointers):\n",
        "    i = len(aln1[0])\n",
        "    j = len(aln2[0])\n",
        "    new_al1 = [list(v) for v in aln1]\n",
        "    new_al2 = [list(w) for w in aln2]\n",
        "    while True:\n",
        "        di, dj = pointers[i][j]\n",
        "        if (di, dj) == LEFT:\n",
        "            for seq1 in new_al1:\n",
        "                seq1.insert(i, '-')\n",
        "        if (di, dj) == UP:\n",
        "            for seq2 in new_al2:\n",
        "                seq2.insert(j, '-')\n",
        "        i, j = i + di, j + dj\n",
        "        if (i <= 0 and j <= 0):\n",
        "            break\n",
        "    new_alignment = []\n",
        "    for seq in new_al1:\n",
        "        new_alignment.append(''.join(seq))\n",
        "    for seq in new_al2:\n",
        "        new_alignment.append(''.join(seq))\n",
        "    return new_alignment\n",
        "\n",
        "def align_profile_profile(aln1, aln2, alphabet, delta):\n",
        "    \"\"\"\n",
        "    :param: aln1 is a list of lists representing the first multiple alignment\n",
        "    :param: aln2 is a list of lists representing the second multiple alignment\n",
        "    :param: alphabet is the alphabet from which the sequences are derived\n",
        "    :param: delta is a scoring function. delta(x,y) gives us the score for aligning \n",
        "            character x with character y in our alphabet\n",
        "            \n",
        "    :returns: the optimal score and the optimal multiple alignment for the two input alignments.\n",
        "    \"\"\"\n",
        "    # Base case when there is an empty multiple alignment\n",
        "    if not aln1 and not aln2:\n",
        "        return []\n",
        "    elif not aln2:\n",
        "        return aln1\n",
        "    elif not aln1:\n",
        "        return aln2\n",
        "    \n",
        "    S = [[0 for j in range(len(aln2[0])+1)] for i in range(len(aln1[0])+1)] \n",
        "    pointers = [[(0,0) for j in range(len(aln2[0])+1)] for i in range(len(aln1[0])+1)]\n",
        "    score = None\n",
        "    \n",
        "    # Compute profiles and scoring functions here\n",
        "    p = compute_profile(aln1, alphabet)\n",
        "    q = compute_profile(aln2, alphabet)\n",
        "    tau1 = compute_tau(p, alphabet, delta)\n",
        "    tau2 = compute_tau(q, alphabet, delta)\n",
        "    sigma = compute_sigma(p,q,alphabet, delta)\n",
        "\n",
        "    # YOUR CODE HERE\n",
        "    #raise NotImplementedError()\n",
        "    for i in range(len(aln1[0])+1):\n",
        "      for j in range(len(aln2[0])+1):\n",
        "        if i == 0 and j == 0:   \n",
        "          S[i][j] = 0\n",
        "        elif i == 0:\n",
        "          S[i][j] = S[i][j-1] + tau2['-'][j-1]\n",
        "          pointers[i][j] = LEFT\n",
        "        elif j == 0:\n",
        "          S[i][j] = S[i-1][j] + tau1['-'][i-1]\n",
        "          pointers[i][j] = UP\n",
        "        else:\n",
        "          best_sub = max([(LEFT, S[i][j-1] + tau2['-'][j-1]), \n",
        "                          (UP, S[i-1][j] +tau1['-'][i-1]), \n",
        "                          (TOPLEFT, S[i-1][j-1] + sigma[i-1][j-1])], key = lambda x: x[1])\n",
        "          pointers[i][j] = best_sub[0]\n",
        "          S[i][j] = best_sub[1]\n",
        "         \n",
        "    score = S[-1][-1]\n",
        "\n",
        "    return score, traceback(aln1, aln2, pointers)\n",
        "    "
      ],
      "metadata": {
        "id": "pXGwD_7bIlhV"
      },
      "execution_count": 38,
      "outputs": []
    },
    {
      "cell_type": "code",
      "source": [
        "def greedy_progressive_align(alignments, alphabet, delta):\n",
        "    \"\"\"\n",
        "    :param: alignments is a list of list of strings representing the sequences to be aligned\n",
        "            Note: This is because we need to represent our single sequences as multiple alignments\n",
        "            ,and multiple alignments are lists of strings\n",
        "    :param: alphabet is the alphabet from which the sequences are derived\n",
        "    :param: delta is a scoring function. delta(x,y) gives us the score for aligning \n",
        "            character x with character y in our alphabet\n",
        "            \n",
        "    :returns: the greedy optimal multiple sequence alignment for a given set of sequences, and the score for that alignment\n",
        "    \"\"\"\n",
        "    \n",
        "    \n",
        "    while True: \n",
        "        # Base case (When to exit the loop?)\n",
        "        # YOUR CODE HERE\n",
        "        if(len(alignments)==1):\n",
        "          return alignments\n",
        "        if(len(alignments)==2):\n",
        "          score, best_alignment = align_profile_profile(alignments[1], alignments[0], alphabet, delta)\n",
        "          #print(best_alignment)\n",
        "\n",
        "          return score,best_alignment\n",
        "        # Data structures for this iteration\n",
        "        best_score = -float(\"inf\")\n",
        "        best_alignment = None\n",
        "        best_m = -1\n",
        "        best_n = -1\n",
        "\n",
        "        # Compute pairwise distances \n",
        "        for m in range(len(alignments)):\n",
        "            for n in range(m):\n",
        "                # YOUR CODE HERE           \n",
        "                temp_score,returned_alignment = align_profile_profile(alignments[m], alignments[n], alphabet, delta)\n",
        "                if(temp_score >= best_score):\n",
        "                  best_alignment = returned_alignment\n",
        "                  best_m=m\n",
        "                  best_n=n\n",
        "        # Populate the list of alignments to use for the next iteration\n",
        "        next_alignments = [best_alignment]\n",
        "        for i in range(len(alignments)):\n",
        "            if i!=best_m and i!=best_n:\n",
        "                next_alignments.append(alignments[i])\n",
        "        alignments = next_alignments\n",
        "  \n",
        "    "
      ],
      "metadata": {
        "id": "fVpYRKfGJ6AH"
      },
      "execution_count": 39,
      "outputs": []
    },
    {
      "cell_type": "code",
      "source": [
        "alphabet = ['A', 'C', 'G', 'T', '-']\n",
        "delta = {}\n",
        "for i in range(len(alphabet)):\n",
        "    delta[alphabet[i]] = {k : v for (k,v) \n",
        "                          in zip(alphabet, [1 if alphabet[i] == alphabet[j]  else -1 \n",
        "                                  for j in range(len(alphabet))]\n",
        "                         )}\n",
        "                         "
      ],
      "metadata": {
        "id": "L3mhe3g2KByA"
      },
      "execution_count": 40,
      "outputs": []
    },
    {
      "cell_type": "markdown",
      "source": [
        "Replace the ``test1_seq`` with your own sequence to construct the MSA and then store them to ``msa.phy`` file for the tree contruction and visualization.\n"
      ],
      "metadata": {
        "id": "CBadtUi6KLWj"
      }
    },
    {
      "cell_type": "code",
      "source": [
        "test1_seqs = [['ATCT'],['AGCT']]"
      ],
      "metadata": {
        "id": "Ftbt3cvIKExO"
      },
      "execution_count": 41,
      "outputs": []
    },
    {
      "cell_type": "code",
      "source": [
        "greedy_progressive_align(test1_seqs, alphabet, delta)"
      ],
      "metadata": {
        "colab": {
          "base_uri": "https://localhost:8080/"
        },
        "id": "717Zxv6YJ9ce",
        "outputId": "acfd258a-e4c3-46c2-8b8e-b3190e1b6f1b"
      },
      "execution_count": 42,
      "outputs": [
        {
          "output_type": "execute_result",
          "data": {
            "text/plain": [
              "(2.0, ['AGCT', 'ATCT'])"
            ]
          },
          "metadata": {},
          "execution_count": 42
        }
      ]
    },
    {
      "cell_type": "markdown",
      "source": [
        "##Neighbor Joining and Visualization"
      ],
      "metadata": {
        "id": "rsZyHSAykrZs"
      }
    },
    {
      "cell_type": "code",
      "source": [
        "!pip install biopython"
      ],
      "metadata": {
        "colab": {
          "base_uri": "https://localhost:8080/"
        },
        "id": "fGKUrRF-3fPq",
        "outputId": "3d03e10d-3ebb-4f5c-aab1-57c633a7002f"
      },
      "execution_count": 21,
      "outputs": [
        {
          "output_type": "stream",
          "name": "stdout",
          "text": [
            "Looking in indexes: https://pypi.org/simple, https://us-python.pkg.dev/colab-wheels/public/simple/\n",
            "Collecting biopython\n",
            "  Downloading biopython-1.80-cp38-cp38-manylinux_2_17_x86_64.manylinux2014_x86_64.whl (3.1 MB)\n",
            "\u001b[K     |████████████████████████████████| 3.1 MB 5.2 MB/s \n",
            "\u001b[?25hRequirement already satisfied: numpy in /usr/local/lib/python3.8/dist-packages (from biopython) (1.21.6)\n",
            "Installing collected packages: biopython\n",
            "Successfully installed biopython-1.80\n"
          ]
        }
      ]
    },
    {
      "cell_type": "code",
      "source": [],
      "metadata": {
        "id": "ZDfTnsArHqR0"
      },
      "execution_count": null,
      "outputs": []
    },
    {
      "cell_type": "code",
      "source": [
        "from Bio.Phylo.TreeConstruction import DistanceCalculator\n",
        "from Bio import AlignIO\n",
        "aln = AlignIO.read(open('msa.phy'), 'phylip')\n",
        "print(aln)"
      ],
      "metadata": {
        "colab": {
          "base_uri": "https://localhost:8080/"
        },
        "id": "sKG5xyO83lHw",
        "outputId": "713d63bb-93ba-42fc-8994-0e30e8694c32"
      },
      "execution_count": 63,
      "outputs": [
        {
          "output_type": "stream",
          "name": "stdout",
          "text": [
            "Alignment with 10 rows and 2748 columns\n",
            "--------------------TC---------A------------...--- cow\n",
            "--------------------GG----------------------...--- macaqueP\n",
            "--------------------CC---------A------------...--- gorilla\n",
            "----------------AA--CC---------CTCC---------...--- macaqueL\n",
            "G--------AAATGAT----CCGGAAATTG-C---AGCCT-CAG...--- macaqueR\n",
            "---------A---G------CC---------C-------T-C--...--- Human\n",
            "---------A----------CC---------A---------G--...--- DeerMouse\n",
            "---------A----------CC---------A---------G--...CAA MouseW\n",
            "----C----A----------CC---------C---------C--...--- Dog\n",
            "-TGGCCCTCA--------GGCC--------GC--------TC--...--- WildPig\n"
          ]
        }
      ]
    },
    {
      "cell_type": "code",
      "source": [
        "calculator = DistanceCalculator('identity')\n",
        "dm = calculator.get_distance(aln)\n",
        "print(dm)"
      ],
      "metadata": {
        "colab": {
          "base_uri": "https://localhost:8080/"
        },
        "id": "RchTzV8E74FJ",
        "outputId": "7774de76-78e1-4bb5-d175-2506eb37c5e3"
      },
      "execution_count": 64,
      "outputs": [
        {
          "output_type": "stream",
          "name": "stdout",
          "text": [
            "cow\t0\n",
            "macaqueP\t0.289665211062591\t0\n",
            "gorilla\t0.3227802037845706\t0.05385735080058229\t0\n",
            "macaqueL\t0.2947598253275109\t0.01455604075691408\t0.053493449781659375\t0\n",
            "macaqueR\t0.39628820960698685\t0.16339155749636103\t0.18813682678311494\t0.16157205240174677\t0\n",
            "Human\t0.35989810771470165\t0.13391557496360995\t0.13973799126637554\t0.13500727802037849\t0.11426491994177579\t0\n",
            "DeerMouse\t0.47707423580786024\t0.28420669577874813\t0.29949053857350805\t0.28493449781659386\t0.3260553129548762\t0.29730713245997087\t0\n",
            "MouseW\t0.4756186317321689\t0.2838427947598253\t0.2987627365356623\t0.28457059679767105\t0.3256914119359534\t0.29621542940320233\t0.01455604075691408\t0\n",
            "Dog\t0.47161572052401746\t0.30895196506550215\t0.32350800582241634\t0.3093158660844251\t0.35152838427947597\t0.32059679767103344\t0.23435225618631728\t0.23326055312954874\t0\n",
            "WildPig\t0.5393013100436681\t0.37190684133915575\t0.3864628820960698\t0.3726346433770015\t0.41484716157205237\t0.38755458515283847\t0.27328966521106257\t0.27292576419213976\t0.20669577874818046\t0\n",
            "\tcow\tmacaqueP\tgorilla\tmacaqueL\tmacaqueR\tHuman\tDeerMouse\tMouseW\tDog\tWildPig\n"
          ]
        }
      ]
    },
    {
      "cell_type": "code",
      "source": [
        "from Bio.Phylo.TreeConstruction import DistanceTreeConstructor\n",
        "from Bio.Phylo.TreeConstruction import DistanceCalculator\n",
        "from Bio import AlignIO\n",
        "from Bio import Phylo\n",
        "aln = AlignIO.read(open('msa.phy'), 'phylip')\n",
        "constructor = DistanceTreeConstructor()\n",
        "calculator = DistanceCalculator('identity')\n",
        "dm = calculator.get_distance(aln)\n",
        "upgmatree = constructor.upgma(dm)\n",
        "print(upgmatree)"
      ],
      "metadata": {
        "colab": {
          "base_uri": "https://localhost:8080/"
        },
        "id": "60X5COjU8-qs",
        "outputId": "bd31eb35-0362-441e-ab6c-c845dd422fd2"
      },
      "execution_count": 65,
      "outputs": [
        {
          "output_type": "stream",
          "name": "stdout",
          "text": [
            "Tree(rooted=True)\n",
            "    Clade(branch_length=0, name='Inner9')\n",
            "        Clade(branch_length=0.10507641921397382, name='Inner8')\n",
            "            Clade(branch_length=0.06159593340611355, name='Inner7')\n",
            "                Clade(branch_length=0.0233806404657933, name='Inner6')\n",
            "                    Clade(branch_length=0.10334788937409023, name='WildPig')\n",
            "                    Clade(branch_length=0.10334788937409023, name='Dog')\n",
            "                Clade(branch_length=0.11945050946142649, name='Inner1')\n",
            "                    Clade(branch_length=0.00727802037845704, name='MouseW')\n",
            "                    Clade(branch_length=0.00727802037845704, name='DeerMouse')\n",
            "            Clade(branch_length=0.10781136280931589, name='Inner5')\n",
            "                Clade(branch_length=0.020969796215429437, name='Inner4')\n",
            "                    Clade(branch_length=0.057132459970887894, name='Human')\n",
            "                    Clade(branch_length=0.057132459970887894, name='macaqueR')\n",
            "                Clade(branch_length=0.051264556040756915, name='Inner3')\n",
            "                    Clade(branch_length=0.026837700145560417, name='gorilla')\n",
            "                    Clade(branch_length=0.019559679767103377, name='Inner2')\n",
            "                        Clade(branch_length=0.00727802037845704, name='macaqueL')\n",
            "                        Clade(branch_length=0.00727802037845704, name='macaqueP')\n",
            "        Clade(branch_length=0.20842430858806404, name='cow')\n"
          ]
        }
      ]
    },
    {
      "cell_type": "code",
      "source": [
        "njtree = constructor.nj(dm)\n",
        "print(njtree)"
      ],
      "metadata": {
        "colab": {
          "base_uri": "https://localhost:8080/"
        },
        "id": "UPUSI-OG86th",
        "outputId": "5ae57eff-6276-46f8-f3fa-ec01cc48b037"
      },
      "execution_count": 66,
      "outputs": [
        {
          "output_type": "stream",
          "name": "stdout",
          "text": [
            "Tree(rooted=False)\n",
            "    Clade(branch_length=0, name='Inner8')\n",
            "        Clade(branch_length=0.008170715065502217, name='Inner7')\n",
            "            Clade(branch_length=0.03822666484716158, name='gorilla')\n",
            "            Clade(branch_length=0.028662891193595337, name='Inner6')\n",
            "                Clade(branch_length=0.013813076176613315, name='Inner5')\n",
            "                    Clade(branch_length=0.11876819505094612, name='Inner3')\n",
            "                        Clade(branch_length=0.04939956331877729, name='Inner2')\n",
            "                            Clade(branch_length=0.1338116032439176, name='WildPig')\n",
            "                            Clade(branch_length=0.07288417550426285, name='Dog')\n",
            "                        Clade(branch_length=0.09343158660844253, name='Inner1')\n",
            "                            Clade(branch_length=0.0069141193595341766, name='MouseW')\n",
            "                            Clade(branch_length=0.007641921397379903, name='DeerMouse')\n",
            "                    Clade(branch_length=0.037345342066957846, name='Inner4')\n",
            "                        Clade(branch_length=0.040138282387190666, name='Human')\n",
            "                        Clade(branch_length=0.07412663755458512, name='macaqueR')\n",
            "                Clade(branch_length=0.2506974769529355, name='cow')\n",
            "        Clade(branch_length=0.006715110989810778, name='macaqueP')\n",
            "        Clade(branch_length=0.007840929767103301, name='macaqueL')\n"
          ]
        }
      ]
    },
    {
      "cell_type": "code",
      "source": [
        "Phylo.draw_ascii(njtree)"
      ],
      "metadata": {
        "colab": {
          "base_uri": "https://localhost:8080/"
        },
        "id": "Ko49XWm894V4",
        "outputId": "95cad3fe-a46f-4375-a588-da23d0805da6"
      },
      "execution_count": 67,
      "outputs": [
        {
          "output_type": "stream",
          "name": "stdout",
          "text": [
            "   ______ gorilla\n",
            "  |\n",
            "  |                                       _________________________ WildPig\n",
            "  |                              ________|\n",
            "  |                             |        |_____________ Dog\n",
            " ,|        _____________________|\n",
            " ||       |                     |                 , MouseW\n",
            " ||       |                     |_________________|\n",
            " ||     __|                                       | DeerMouse\n",
            " ||    |  |\n",
            " ||    |  |       ______ Human\n",
            "_||____|  |______|\n",
            " |     |         |_____________ macaqueR\n",
            " |     |\n",
            " |     |______________________________________________ cow\n",
            " |\n",
            " | macaqueP\n",
            " |\n",
            " | macaqueL\n",
            "\n"
          ]
        }
      ]
    },
    {
      "cell_type": "code",
      "source": [
        "import matplotlib.pyplot as plt"
      ],
      "metadata": {
        "id": "raQuQeNgODtW"
      },
      "execution_count": 68,
      "outputs": []
    },
    {
      "cell_type": "code",
      "source": [
        "import matplotlib"
      ],
      "metadata": {
        "id": "emqjy2MTOJqs"
      },
      "execution_count": 69,
      "outputs": []
    },
    {
      "cell_type": "code",
      "source": [
        "fig = plt.figure(figsize=(13, 5), dpi=100) # create figure & set the size \n",
        "matplotlib.rc('font', size=12)             # fontsize of the leaf and node labels \n",
        "matplotlib.rc('xtick', labelsize=10)       # fontsize of the tick labels\n",
        "matplotlib.rc('ytick', labelsize=10)       # fontsize of the tick labels\n",
        "#turtle_tree.ladderize()\t\t   # optional way to reformat your tree \n",
        "axes = fig.add_subplot(1, 1, 1)\n",
        "Phylo.draw(njtree, axes=axes)\n",
        "fig.savefig(\"tree\")"
      ],
      "metadata": {
        "colab": {
          "base_uri": "https://localhost:8080/",
          "height": 293
        },
        "id": "6dxm1lz7N_nI",
        "outputId": "b446834e-50f1-458d-e753-5daa0d236824"
      },
      "execution_count": 70,
      "outputs": [
        {
          "output_type": "display_data",
          "data": {
            "text/plain": [
              "<Figure size 1300x500 with 1 Axes>"
            ],
            "image/png": "[encoded data removed]"
          },
          "metadata": {
            "needs_background": "light"
          }
        }
      ]
    }
  ]
}